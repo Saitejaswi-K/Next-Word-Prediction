{
 "cells": [
  {
   "cell_type": "code",
   "execution_count": 1,
   "id": "3acc6657",
   "metadata": {},
   "outputs": [],
   "source": [
    "import pandas as pd\n",
    "import numpy as np\n",
    "import random\n",
    "import pickle\n",
    "from nltk.tokenize import RegexpTokenizer\n",
    "from tensorflow.keras.models import Sequential, load_model\n",
    "from tensorflow.keras.layers import LSTM, Dense, Activation, Bidirectional\n",
    "from tensorflow.keras.optimizers import RMSprop, Adam\n",
    "from tensorflow.keras.utils import to_categorical\n",
    "from tensorflow.keras.preprocessing.text import Tokenizer"
   ]
  },
  {
   "cell_type": "code",
   "execution_count": 3,
   "id": "b7f33c0b",
   "metadata": {},
   "outputs": [],
   "source": [
    "\n",
    "import matplotlib.pyplot as plt\n",
    "import pickle\n",
    "import heapq"
   ]
  },
  {
   "cell_type": "code",
   "execution_count": 4,
   "id": "52fb5a0c",
   "metadata": {},
   "outputs": [],
   "source": [
    "text_df = pd.read_csv(\"MiniProject-train.csv\")"
   ]
  },
  {
   "cell_type": "code",
   "execution_count": 5,
   "id": "aa9b5d7e",
   "metadata": {},
   "outputs": [
    {
     "data": {
      "text/html": [
       "<div>\n",
       "<style scoped>\n",
       "    .dataframe tbody tr th:only-of-type {\n",
       "        vertical-align: middle;\n",
       "    }\n",
       "\n",
       "    .dataframe tbody tr th {\n",
       "        vertical-align: top;\n",
       "    }\n",
       "\n",
       "    .dataframe thead th {\n",
       "        text-align: right;\n",
       "    }\n",
       "</style>\n",
       "<table border=\"1\" class=\"dataframe\">\n",
       "  <thead>\n",
       "    <tr style=\"text-align: right;\">\n",
       "      <th></th>\n",
       "      <th>Unnamed: 0</th>\n",
       "      <th>video-id</th>\n",
       "      <th>fold-ind</th>\n",
       "      <th>startphrase</th>\n",
       "      <th>sent1</th>\n",
       "      <th>sent2</th>\n",
       "      <th>gold-source</th>\n",
       "      <th>ending0</th>\n",
       "      <th>ending1</th>\n",
       "      <th>ending2</th>\n",
       "      <th>ending3</th>\n",
       "      <th>label</th>\n",
       "    </tr>\n",
       "  </thead>\n",
       "  <tbody>\n",
       "    <tr>\n",
       "      <th>0</th>\n",
       "      <td>0</td>\n",
       "      <td>anetv_jkn6uvmqwh4</td>\n",
       "      <td>3416</td>\n",
       "      <td>Members of the procession walk down the street...</td>\n",
       "      <td>Members of the procession walk down the street...</td>\n",
       "      <td>A drum line</td>\n",
       "      <td>gold</td>\n",
       "      <td>passes by walking down the street playing thei...</td>\n",
       "      <td>has heard approaching them.</td>\n",
       "      <td>arrives and they're outside dancing and asleep.</td>\n",
       "      <td>turns the lead singer watches the performance.</td>\n",
       "      <td>0</td>\n",
       "    </tr>\n",
       "    <tr>\n",
       "      <th>1</th>\n",
       "      <td>1</td>\n",
       "      <td>anetv_jkn6uvmqwh4</td>\n",
       "      <td>3417</td>\n",
       "      <td>A drum line passes by walking down the street ...</td>\n",
       "      <td>A drum line passes by walking down the street ...</td>\n",
       "      <td>Members of the procession</td>\n",
       "      <td>gen</td>\n",
       "      <td>are playing ping pong and celebrating one left...</td>\n",
       "      <td>wait slowly towards the cadets.</td>\n",
       "      <td>continues to play as well along the crowd alon...</td>\n",
       "      <td>continue to play marching, interspersed.</td>\n",
       "      <td>3</td>\n",
       "    </tr>\n",
       "    <tr>\n",
       "      <th>2</th>\n",
       "      <td>2</td>\n",
       "      <td>anetv_jkn6uvmqwh4</td>\n",
       "      <td>3415</td>\n",
       "      <td>A group of members in green uniforms walks wav...</td>\n",
       "      <td>A group of members in green uniforms walks wav...</td>\n",
       "      <td>Members of the procession</td>\n",
       "      <td>gold</td>\n",
       "      <td>pay the other coaches to cheer as people this ...</td>\n",
       "      <td>walk down the street holding small horn brass ...</td>\n",
       "      <td>is seen in the background.</td>\n",
       "      <td>are talking a couple of people playing a game ...</td>\n",
       "      <td>1</td>\n",
       "    </tr>\n",
       "    <tr>\n",
       "      <th>3</th>\n",
       "      <td>3</td>\n",
       "      <td>anetv_jkn6uvmqwh4</td>\n",
       "      <td>3417</td>\n",
       "      <td>A drum line passes by walking down the street ...</td>\n",
       "      <td>A drum line passes by walking down the street ...</td>\n",
       "      <td>Members of the procession</td>\n",
       "      <td>gen</td>\n",
       "      <td>are playing ping pong and celebrating one left...</td>\n",
       "      <td>wait slowly towards the cadets.</td>\n",
       "      <td>makes a square call and ends by jumping down i...</td>\n",
       "      <td>play and go back and forth hitting the drums w...</td>\n",
       "      <td>3</td>\n",
       "    </tr>\n",
       "    <tr>\n",
       "      <th>4</th>\n",
       "      <td>4</td>\n",
       "      <td>anetv_Bri_myFFu4A</td>\n",
       "      <td>2408</td>\n",
       "      <td>The person plays a song on the violin. The man</td>\n",
       "      <td>The person plays a song on the violin.</td>\n",
       "      <td>The man</td>\n",
       "      <td>gold</td>\n",
       "      <td>finishes the song and lowers the instrument.</td>\n",
       "      <td>hits the saxophone and demonstrates how to pro...</td>\n",
       "      <td>finishes massage the instrument again and cont...</td>\n",
       "      <td>continues dancing while the man gore the music...</td>\n",
       "      <td>0</td>\n",
       "    </tr>\n",
       "    <tr>\n",
       "      <th>...</th>\n",
       "      <td>...</td>\n",
       "      <td>...</td>\n",
       "      <td>...</td>\n",
       "      <td>...</td>\n",
       "      <td>...</td>\n",
       "      <td>...</td>\n",
       "      <td>...</td>\n",
       "      <td>...</td>\n",
       "      <td>...</td>\n",
       "      <td>...</td>\n",
       "      <td>...</td>\n",
       "      <td>...</td>\n",
       "    </tr>\n",
       "    <tr>\n",
       "      <th>73541</th>\n",
       "      <td>73541</td>\n",
       "      <td>lsmdc3073_THE_GUILT_TRIP-34734</td>\n",
       "      <td>2708</td>\n",
       "      <td>Someone bites her lower lip. Someone</td>\n",
       "      <td>Someone bites her lower lip.</td>\n",
       "      <td>Someone</td>\n",
       "      <td>gen</td>\n",
       "      <td>shifts her thoughtful gaze to the page.</td>\n",
       "      <td>sits down next to her on the bed.</td>\n",
       "      <td>pats chin, looks down.</td>\n",
       "      <td>gives him a disapproving look.</td>\n",
       "      <td>1</td>\n",
       "    </tr>\n",
       "    <tr>\n",
       "      <th>73542</th>\n",
       "      <td>73542</td>\n",
       "      <td>anetv_R2izNBHhctM</td>\n",
       "      <td>62</td>\n",
       "      <td>The cat looked up while the woman is clipping ...</td>\n",
       "      <td>The cat looked up while the woman is clipping ...</td>\n",
       "      <td>While the woman is clipping the left back paw,...</td>\n",
       "      <td>gen</td>\n",
       "      <td>appears on the left youth.</td>\n",
       "      <td>is overlaid on the nail.</td>\n",
       "      <td>zooms out holding her toothbrush.</td>\n",
       "      <td>stands in her lap as it moves away from her le...</td>\n",
       "      <td>3</td>\n",
       "    </tr>\n",
       "    <tr>\n",
       "      <th>73543</th>\n",
       "      <td>73543</td>\n",
       "      <td>anetv_R2izNBHhctM</td>\n",
       "      <td>60</td>\n",
       "      <td>A woman in pink dress is clipping the right pa...</td>\n",
       "      <td>A woman in pink dress is clipping the right pa...</td>\n",
       "      <td>She took the left paw to clip, the cat looked ...</td>\n",
       "      <td>gold</td>\n",
       "      <td>is brushing on the wall with two toys.</td>\n",
       "      <td>gave them a bit and placed unto the cat's back.</td>\n",
       "      <td>looked down and gave her a quick kiss on the h...</td>\n",
       "      <td>drops the smooths it on the other side of the ...</td>\n",
       "      <td>2</td>\n",
       "    </tr>\n",
       "    <tr>\n",
       "      <th>73544</th>\n",
       "      <td>73544</td>\n",
       "      <td>anetv_R2izNBHhctM</td>\n",
       "      <td>62</td>\n",
       "      <td>The cat looked up while the woman is clipping ...</td>\n",
       "      <td>The cat looked up while the woman is clipping ...</td>\n",
       "      <td>While the woman is clipping the left back paw,...</td>\n",
       "      <td>gold</td>\n",
       "      <td>was blinking to the camera.</td>\n",
       "      <td>is overlaid on the nail.</td>\n",
       "      <td>appears on the left youth.</td>\n",
       "      <td>zooms out holding her toothbrush.</td>\n",
       "      <td>0</td>\n",
       "    </tr>\n",
       "    <tr>\n",
       "      <th>73545</th>\n",
       "      <td>73545</td>\n",
       "      <td>anetv_R2izNBHhctM</td>\n",
       "      <td>61</td>\n",
       "      <td>She took the left paw to clip, the cat looked ...</td>\n",
       "      <td>She took the left paw to clip, the cat looked ...</td>\n",
       "      <td>The cat</td>\n",
       "      <td>gold</td>\n",
       "      <td>moves the camera to take the shape on the wall...</td>\n",
       "      <td>looked up while the woman is clipping the righ...</td>\n",
       "      <td>is shown again in the cheek and then the man m...</td>\n",
       "      <td>picked up the mouthwash and talked to the came...</td>\n",
       "      <td>1</td>\n",
       "    </tr>\n",
       "  </tbody>\n",
       "</table>\n",
       "<p>73546 rows × 12 columns</p>\n",
       "</div>"
      ],
      "text/plain": [
       "       Unnamed: 0                        video-id  fold-ind  \\\n",
       "0               0               anetv_jkn6uvmqwh4      3416   \n",
       "1               1               anetv_jkn6uvmqwh4      3417   \n",
       "2               2               anetv_jkn6uvmqwh4      3415   \n",
       "3               3               anetv_jkn6uvmqwh4      3417   \n",
       "4               4               anetv_Bri_myFFu4A      2408   \n",
       "...           ...                             ...       ...   \n",
       "73541       73541  lsmdc3073_THE_GUILT_TRIP-34734      2708   \n",
       "73542       73542               anetv_R2izNBHhctM        62   \n",
       "73543       73543               anetv_R2izNBHhctM        60   \n",
       "73544       73544               anetv_R2izNBHhctM        62   \n",
       "73545       73545               anetv_R2izNBHhctM        61   \n",
       "\n",
       "                                             startphrase  \\\n",
       "0      Members of the procession walk down the street...   \n",
       "1      A drum line passes by walking down the street ...   \n",
       "2      A group of members in green uniforms walks wav...   \n",
       "3      A drum line passes by walking down the street ...   \n",
       "4         The person plays a song on the violin. The man   \n",
       "...                                                  ...   \n",
       "73541               Someone bites her lower lip. Someone   \n",
       "73542  The cat looked up while the woman is clipping ...   \n",
       "73543  A woman in pink dress is clipping the right pa...   \n",
       "73544  The cat looked up while the woman is clipping ...   \n",
       "73545  She took the left paw to clip, the cat looked ...   \n",
       "\n",
       "                                                   sent1  \\\n",
       "0      Members of the procession walk down the street...   \n",
       "1      A drum line passes by walking down the street ...   \n",
       "2      A group of members in green uniforms walks wav...   \n",
       "3      A drum line passes by walking down the street ...   \n",
       "4                 The person plays a song on the violin.   \n",
       "...                                                  ...   \n",
       "73541                       Someone bites her lower lip.   \n",
       "73542  The cat looked up while the woman is clipping ...   \n",
       "73543  A woman in pink dress is clipping the right pa...   \n",
       "73544  The cat looked up while the woman is clipping ...   \n",
       "73545  She took the left paw to clip, the cat looked ...   \n",
       "\n",
       "                                                   sent2 gold-source  \\\n",
       "0                                            A drum line        gold   \n",
       "1                              Members of the procession         gen   \n",
       "2                              Members of the procession        gold   \n",
       "3                              Members of the procession         gen   \n",
       "4                                                The man        gold   \n",
       "...                                                  ...         ...   \n",
       "73541                                            Someone         gen   \n",
       "73542  While the woman is clipping the left back paw,...         gen   \n",
       "73543  She took the left paw to clip, the cat looked ...        gold   \n",
       "73544  While the woman is clipping the left back paw,...        gold   \n",
       "73545                                            The cat        gold   \n",
       "\n",
       "                                                 ending0  \\\n",
       "0      passes by walking down the street playing thei...   \n",
       "1      are playing ping pong and celebrating one left...   \n",
       "2      pay the other coaches to cheer as people this ...   \n",
       "3      are playing ping pong and celebrating one left...   \n",
       "4           finishes the song and lowers the instrument.   \n",
       "...                                                  ...   \n",
       "73541            shifts her thoughtful gaze to the page.   \n",
       "73542                         appears on the left youth.   \n",
       "73543             is brushing on the wall with two toys.   \n",
       "73544                        was blinking to the camera.   \n",
       "73545  moves the camera to take the shape on the wall...   \n",
       "\n",
       "                                                 ending1  \\\n",
       "0                            has heard approaching them.   \n",
       "1                        wait slowly towards the cadets.   \n",
       "2      walk down the street holding small horn brass ...   \n",
       "3                        wait slowly towards the cadets.   \n",
       "4      hits the saxophone and demonstrates how to pro...   \n",
       "...                                                  ...   \n",
       "73541                  sits down next to her on the bed.   \n",
       "73542                           is overlaid on the nail.   \n",
       "73543    gave them a bit and placed unto the cat's back.   \n",
       "73544                           is overlaid on the nail.   \n",
       "73545  looked up while the woman is clipping the righ...   \n",
       "\n",
       "                                                 ending2  \\\n",
       "0        arrives and they're outside dancing and asleep.   \n",
       "1      continues to play as well along the crowd alon...   \n",
       "2                             is seen in the background.   \n",
       "3      makes a square call and ends by jumping down i...   \n",
       "4      finishes massage the instrument again and cont...   \n",
       "...                                                  ...   \n",
       "73541                             pats chin, looks down.   \n",
       "73542                  zooms out holding her toothbrush.   \n",
       "73543  looked down and gave her a quick kiss on the h...   \n",
       "73544                         appears on the left youth.   \n",
       "73545  is shown again in the cheek and then the man m...   \n",
       "\n",
       "                                                 ending3  label  \n",
       "0         turns the lead singer watches the performance.      0  \n",
       "1               continue to play marching, interspersed.      3  \n",
       "2      are talking a couple of people playing a game ...      1  \n",
       "3      play and go back and forth hitting the drums w...      3  \n",
       "4      continues dancing while the man gore the music...      0  \n",
       "...                                                  ...    ...  \n",
       "73541                     gives him a disapproving look.      1  \n",
       "73542  stands in her lap as it moves away from her le...      3  \n",
       "73543  drops the smooths it on the other side of the ...      2  \n",
       "73544                  zooms out holding her toothbrush.      0  \n",
       "73545  picked up the mouthwash and talked to the came...      1  \n",
       "\n",
       "[73546 rows x 12 columns]"
      ]
     },
     "execution_count": 5,
     "metadata": {},
     "output_type": "execute_result"
    }
   ],
   "source": [
    "text_df"
   ]
  },
  {
   "cell_type": "code",
   "execution_count": 6,
   "id": "8259c408",
   "metadata": {},
   "outputs": [],
   "source": [
    "for label_val in text_df['label']:\n",
    "  if label_val == 0:\n",
    "    text_df['sent'] = text_df['startphrase'] + \" \" + text_df['ending0']\n",
    "  elif label_val == 1:\n",
    "    text_df['sent'] = text_df['startphrase'] + \" \" + text_df['ending1']\n",
    "  elif label_val == 2:\n",
    "    text_df['sent'] = text_df['startphrase'] + \" \" + text_df['ending2']\n",
    "  elif label_val == 3:\n",
    "    text_df['sent'] = text_df['startphrase'] + \" \" + text_df['ending3']"
   ]
  },
  {
   "cell_type": "code",
   "execution_count": 7,
   "id": "9d8d8f40",
   "metadata": {},
   "outputs": [
    {
     "data": {
      "text/plain": [
       "'Members of the procession walk down the street holding small horn brass instruments. A drum line has heard approaching them.'"
      ]
     },
     "execution_count": 7,
     "metadata": {},
     "output_type": "execute_result"
    }
   ],
   "source": [
    "text_df['sent'][0]"
   ]
  },
  {
   "cell_type": "code",
   "execution_count": 8,
   "id": "cb56a8ba",
   "metadata": {},
   "outputs": [
    {
     "name": "stdout",
     "output_type": "stream",
     "text": [
      "<class 'pandas.core.frame.DataFrame'>\n",
      "RangeIndex: 73546 entries, 0 to 73545\n",
      "Data columns (total 13 columns):\n",
      " #   Column       Non-Null Count  Dtype \n",
      "---  ------       --------------  ----- \n",
      " 0   Unnamed: 0   73546 non-null  int64 \n",
      " 1   video-id     73546 non-null  object\n",
      " 2   fold-ind     73546 non-null  int64 \n",
      " 3   startphrase  73546 non-null  object\n",
      " 4   sent1        73546 non-null  object\n",
      " 5   sent2        73546 non-null  object\n",
      " 6   gold-source  73546 non-null  object\n",
      " 7   ending0      73546 non-null  object\n",
      " 8   ending1      73546 non-null  object\n",
      " 9   ending2      73546 non-null  object\n",
      " 10  ending3      73546 non-null  object\n",
      " 11  label        73546 non-null  int64 \n",
      " 12  sent         73546 non-null  object\n",
      "dtypes: int64(3), object(10)\n",
      "memory usage: 7.3+ MB\n"
     ]
    }
   ],
   "source": [
    "text_df.info()"
   ]
  },
  {
   "cell_type": "code",
   "execution_count": 9,
   "id": "9b848573",
   "metadata": {},
   "outputs": [],
   "source": [
    "swag_text = list(text_df.sent.values)\n",
    "partial_text = swag_text[:5000]\n",
    "joined_text = \" \".join(partial_text)\n",
    "joined_text = joined_text.lower()"
   ]
  },
  {
   "cell_type": "code",
   "execution_count": 10,
   "id": "5d52c3cd",
   "metadata": {},
   "outputs": [
    {
     "data": {
      "text/plain": [
       "9102"
      ]
     },
     "execution_count": 10,
     "metadata": {},
     "output_type": "execute_result"
    }
   ],
   "source": [
    "len(set(list(joined_text.split())))"
   ]
  },
  {
   "cell_type": "code",
   "execution_count": 10,
   "id": "7b46f9fe",
   "metadata": {},
   "outputs": [
    {
     "data": {
      "text/plain": [
       "608946"
      ]
     },
     "execution_count": 10,
     "metadata": {},
     "output_type": "execute_result"
    }
   ],
   "source": [
    "len(joined_text)"
   ]
  },
  {
   "cell_type": "markdown",
   "id": "a141ad67",
   "metadata": {},
   "source": [
    "## BERT "
   ]
  },
  {
   "cell_type": "code",
   "execution_count": 31,
   "id": "91256bd7",
   "metadata": {},
   "outputs": [
    {
     "name": "stderr",
     "output_type": "stream",
     "text": [
      "Some weights of the model checkpoint at bert-base-uncased were not used when initializing BertForMaskedLM: ['cls.seq_relationship.weight', 'cls.seq_relationship.bias']\n",
      "- This IS expected if you are initializing BertForMaskedLM from the checkpoint of a model trained on another task or with another architecture (e.g. initializing a BertForSequenceClassification model from a BertForPreTraining model).\n",
      "- This IS NOT expected if you are initializing BertForMaskedLM from the checkpoint of a model that you expect to be exactly identical (initializing a BertForSequenceClassification model from a BertForSequenceClassification model).\n",
      "C:\\ProgramData\\anaconda3\\lib\\site-packages\\transformers\\optimization.py:306: FutureWarning: This implementation of AdamW is deprecated and will be removed in a future version. Use the PyTorch implementation torch.optim.AdamW instead, or set `no_deprecation_warning=True` to disable this warning\n",
      "  warnings.warn(\n"
     ]
    },
    {
     "name": "stdout",
     "output_type": "stream",
     "text": [
      "Epoch 1/3, Loss: 0.5098954439163208\n",
      "Epoch 2/3, Loss: 0.2879583537578583\n",
      "Epoch 3/3, Loss: 0.1619165539741516\n"
     ]
    },
    {
     "data": {
      "image/png": "[encoded data removed]",
      "text/plain": [
       "<Figure size 640x480 with 1 Axes>"
      ]
     },
     "metadata": {},
     "output_type": "display_data"
    },
    {
     "ename": "NameError",
     "evalue": "name 'validation_dataloader' is not defined",
     "output_type": "error",
     "traceback": [
      "\u001b[1;31m---------------------------------------------------------------------------\u001b[0m",
      "\u001b[1;31mNameError\u001b[0m                                 Traceback (most recent call last)",
      "Cell \u001b[1;32mIn[31], line 95\u001b[0m\n\u001b[0;32m     92\u001b[0m total_predictions \u001b[38;5;241m=\u001b[39m \u001b[38;5;241m0\u001b[39m\n\u001b[0;32m     94\u001b[0m \u001b[38;5;28;01mwith\u001b[39;00m torch\u001b[38;5;241m.\u001b[39mno_grad():\n\u001b[1;32m---> 95\u001b[0m     \u001b[38;5;28;01mfor\u001b[39;00m batch \u001b[38;5;129;01min\u001b[39;00m \u001b[43mvalidation_dataloader\u001b[49m:  \u001b[38;5;66;03m# Assuming you have a separate validation dataloader\u001b[39;00m\n\u001b[0;32m     96\u001b[0m         input_ids_batch, attention_mask_batch, labels_batch \u001b[38;5;241m=\u001b[39m batch\n\u001b[0;32m     97\u001b[0m         outputs \u001b[38;5;241m=\u001b[39m model(input_ids_batch, attention_mask\u001b[38;5;241m=\u001b[39mattention_mask_batch, labels\u001b[38;5;241m=\u001b[39mlabels_batch)\n",
      "\u001b[1;31mNameError\u001b[0m: name 'validation_dataloader' is not defined"
     ]
    }
   ],
   "source": [
    "import torch\n",
    "from torch.utils.data import DataLoader, TensorDataset\n",
    "from transformers import BertTokenizer, BertForMaskedLM, AdamW\n",
    "import matplotlib.pyplot as plt\n",
    "\n",
    "# Step 1: Prepare Your Data\n",
    "# TODO: Load and preprocess your training data\n",
    "\n",
    "# Step 2: Tokenization\n",
    "tokenizer = BertTokenizer.from_pretrained('bert-base-uncased')\n",
    "tokenized_data = tokenizer(joined_text, truncation=True, padding=True, return_tensors='pt')\n",
    "\n",
    "# Step 3: Create Input Sequences for MLM\n",
    "input_ids = tokenized_data['input_ids']\n",
    "attention_mask = tokenized_data['attention_mask']\n",
    "labels = input_ids.clone()  # Labels are the same as input_ids for MLM task\n",
    "\n",
    "# Mask some tokens for MLM training\n",
    "probability_matrix = torch.rand(input_ids.shape)\n",
    "masking_prob = probability_matrix < 0.15  # You can adjust this masking probability\n",
    "input_ids[masking_prob] = tokenizer.mask_token_id\n",
    "\n",
    "# Step 4: Create DataLoader\n",
    "dataset = TensorDataset(input_ids, attention_mask, labels)\n",
    "dataloader = DataLoader(dataset, batch_size=8, shuffle=True)\n",
    "\n",
    "# Step 5: Initialize and Train BERT for MLM\n",
    "model = BertForMaskedLM.from_pretrained('bert-base-uncased')\n",
    "optimizer = AdamW(model.parameters(), lr=5e-5)\n",
    "\n",
    "# Training loop\n",
    "'''num_epochs = 3\n",
    "losses = []\n",
    "\n",
    "for epoch in range(num_epochs):\n",
    "    epoch_losses = []\n",
    "\n",
    "    for batch in dataloader:\n",
    "        input_ids_batch, attention_mask_batch, labels_batch = batch\n",
    "        outputs = model(input_ids_batch, attention_mask=attention_mask_batch, labels=labels_batch)\n",
    "        loss = outputs.loss\n",
    "        loss.backward()\n",
    "        optimizer.step()\n",
    "        optimizer.zero_grad()\n",
    "\n",
    "        epoch_losses.append(loss.item())\n",
    "\n",
    "    avg_epoch_loss = sum(epoch_losses) / len(epoch_losses)\n",
    "    losses.append(avg_epoch_loss)\n",
    "    print(f\"Epoch {epoch + 1}/{num_epochs}, Loss: {avg_epoch_loss}\")\n",
    "\n",
    "# Plot the loss\n",
    "plt.plot(losses, label='Training Loss')\n",
    "plt.xlabel('Epoch')\n",
    "plt.ylabel('Loss')\n",
    "plt.title('Training Loss over Epochs')\n",
    "plt.legend()\n",
    "plt.show()\n",
    "'''\n",
    "num_epochs = 3\n",
    "losses = []\n",
    "\n",
    "for epoch in range(num_epochs):\n",
    "    epoch_losses = []\n",
    "\n",
    "    for batch in dataloader:\n",
    "        input_ids_batch, attention_mask_batch, labels_batch = batch\n",
    "        outputs = model(input_ids_batch, attention_mask=attention_mask_batch, labels=labels_batch)\n",
    "        loss = outputs.loss\n",
    "        loss.backward()\n",
    "        optimizer.step()\n",
    "        optimizer.zero_grad()\n",
    "\n",
    "        epoch_losses.append(loss.item())\n",
    "\n",
    "    avg_epoch_loss = sum(epoch_losses) / len(epoch_losses)\n",
    "    losses.append(avg_epoch_loss)\n",
    "    print(f\"Epoch {epoch + 1}/{num_epochs}, Loss: {avg_epoch_loss}\")\n",
    "\n",
    "# Plot the loss\n",
    "plt.plot(losses, label='Training Loss')\n",
    "plt.xlabel('Epoch')\n",
    "plt.ylabel('Loss')\n",
    "plt.title('Training Loss over Epochs')\n",
    "plt.legend()\n",
    "plt.show()\n",
    "\n",
    "# Evaluate accuracy (assuming a validation set is available)\n",
    "# Note: This is just a placeholder and should be adapted based on your task\n",
    "'''model.eval()\n",
    "correct_predictions = 0\n",
    "total_predictions = 0\n",
    "\n",
    "with torch.no_grad():\n",
    "    for batch in validation_dataloader:  # Assuming you have a separate validation dataloader\n",
    "        input_ids_batch, attention_mask_batch, labels_batch = batch\n",
    "        outputs = model(input_ids_batch, attention_mask=attention_mask_batch, labels=labels_batch)\n",
    "        logits = outputs.logits\n",
    "        predictions = torch.argmax(F.softmax(logits, dim=-1), dim=-1)\n",
    "        correct_predictions += torch.sum(predictions == labels_batch).item()\n",
    "        total_predictions += labels_batch.numel()\n",
    "\n",
    "accuracy = correct_predictions / total_predictions\n",
    "print(f\"Validation Accuracy: {accuracy}\")\n",
    "\n",
    "# Optionally, plot the accuracy over epochs\n",
    "accuracies = [accuracy] * num_epochs\n",
    "plt.plot(accuracies, label='Validation Accuracy')\n",
    "plt.xlabel('Epoch')\n",
    "plt.ylabel('Accuracy')\n",
    "plt.title('Validation Accuracy over Epochs')\n",
    "plt.legend()\n",
    "plt.show()\n",
    "# Optionally, plot the accuracy over epochs\n",
    "# Note: Since this is a generative task, accuracy might not be a well-defined metric\n",
    "# Consider using perplexity or other evaluation metrics specific to language modeling tasks.\n",
    "'''\n",
    "\n"
   ]
  },
  {
   "cell_type": "code",
   "execution_count": 33,
   "id": "d51c191d",
   "metadata": {},
   "outputs": [
    {
     "name": "stdout",
     "output_type": "stream",
     "text": [
      "Validation Accuracy: 0.986328125\n"
     ]
    },
    {
     "data": {
      "image/png": "[encoded data removed]",
      "text/plain": [
       "<Figure size 640x480 with 1 Axes>"
      ]
     },
     "metadata": {},
     "output_type": "display_data"
    }
   ],
   "source": [
    "model.eval()\n",
    "correct_predictions = 0\n",
    "total_predictions = 0\n",
    "\n",
    "# Assuming you have a separate validation dataloader\n",
    "validation_dataloader = DataLoader(dataset, batch_size=8, shuffle=False)\n",
    "\n",
    "with torch.no_grad():\n",
    "    for batch in validation_dataloader:\n",
    "        input_ids_batch, attention_mask_batch, labels_batch = batch\n",
    "        outputs = model(input_ids_batch, attention_mask=attention_mask_batch, labels=labels_batch)\n",
    "        logits = outputs.logits\n",
    "        predictions = torch.argmax(torch.nn.functional.softmax(logits, dim=-1), dim=-1)\n",
    "        correct_predictions += torch.sum(predictions == labels_batch).item()\n",
    "        total_predictions += labels_batch.numel()\n",
    "\n",
    "accuracy = correct_predictions / total_predictions\n",
    "print(f\"Validation Accuracy: {accuracy}\")\n",
    "\n",
    "# Optionally, plot the accuracy over epochs\n",
    "accuracies = [accuracy] * num_epochs\n",
    "plt.plot(accuracies, label='Validation Accuracy')\n",
    "plt.xlabel('Epoch')\n",
    "plt.ylabel('Accuracy')\n",
    "plt.title('Validation Accuracy over Epochs')\n",
    "plt.legend()\n",
    "plt.show()\n",
    "\n",
    "# Save the trained model\n",
    "model.save_pretrained('bert-next-word-prediction')"
   ]
  },
  {
   "cell_type": "code",
   "execution_count": 35,
   "id": "083f9993",
   "metadata": {},
   "outputs": [],
   "source": [
    "model.save_pretrained('bert-next-word-prediction.h5')"
   ]
  },
  {
   "cell_type": "markdown",
   "id": "87ddce97",
   "metadata": {},
   "source": [
    "## Integrating GUI"
   ]
  },
  {
   "cell_type": "code",
   "execution_count": 40,
   "id": "e2e44bca",
   "metadata": {},
   "outputs": [
    {
     "name": "stdout",
     "output_type": "stream",
     "text": [
      "Defaulting to user installation because normal site-packages is not writeable\n",
      "Requirement already satisfied: transformers in c:\\programdata\\anaconda3\\lib\\site-packages (4.24.0)\n",
      "Requirement already satisfied: torch in c:\\programdata\\anaconda3\\lib\\site-packages (1.12.1)\n",
      "Requirement already satisfied: tqdm>=4.27 in c:\\programdata\\anaconda3\\lib\\site-packages (from transformers) (4.64.1)\n",
      "Requirement already satisfied: huggingface-hub<1.0,>=0.10.0 in c:\\programdata\\anaconda3\\lib\\site-packages (from transformers) (0.10.1)\n",
      "Requirement already satisfied: numpy>=1.17 in c:\\programdata\\anaconda3\\lib\\site-packages (from transformers) (1.23.5)\n",
      "Requirement already satisfied: filelock in c:\\programdata\\anaconda3\\lib\\site-packages (from transformers) (3.9.0)\n",
      "Requirement already satisfied: tokenizers!=0.11.3,<0.14,>=0.11.1 in c:\\programdata\\anaconda3\\lib\\site-packages (from transformers) (0.11.4)\n",
      "Requirement already satisfied: requests in c:\\programdata\\anaconda3\\lib\\site-packages (from transformers) (2.28.1)\n",
      "Requirement already satisfied: pyyaml>=5.1 in c:\\programdata\\anaconda3\\lib\\site-packages (from transformers) (6.0)\n",
      "Requirement already satisfied: regex!=2019.12.17 in c:\\programdata\\anaconda3\\lib\\site-packages (from transformers) (2022.7.9)\n",
      "Requirement already satisfied: packaging>=20.0 in c:\\programdata\\anaconda3\\lib\\site-packages (from transformers) (22.0)\n",
      "Requirement already satisfied: typing_extensions in c:\\programdata\\anaconda3\\lib\\site-packages (from torch) (4.4.0)\n",
      "Requirement already satisfied: colorama in c:\\programdata\\anaconda3\\lib\\site-packages (from tqdm>=4.27->transformers) (0.4.6)\n",
      "Requirement already satisfied: urllib3<1.27,>=1.21.1 in c:\\programdata\\anaconda3\\lib\\site-packages (from requests->transformers) (1.26.14)\n",
      "Requirement already satisfied: charset-normalizer<3,>=2 in c:\\programdata\\anaconda3\\lib\\site-packages (from requests->transformers) (2.0.4)\n",
      "Requirement already satisfied: certifi>=2017.4.17 in c:\\programdata\\anaconda3\\lib\\site-packages (from requests->transformers) (2022.12.7)\n",
      "Requirement already satisfied: idna<4,>=2.5 in c:\\programdata\\anaconda3\\lib\\site-packages (from requests->transformers) (3.4)\n",
      "Note: you may need to restart the kernel to use updated packages.\n"
     ]
    },
    {
     "name": "stderr",
     "output_type": "stream",
     "text": [
      "WARNING: Ignoring invalid distribution -rotobuf (c:\\users\\sai tejaswi\\appdata\\roaming\\python\\python310\\site-packages)\n",
      "WARNING: Ignoring invalid distribution -rotobuf (c:\\users\\sai tejaswi\\appdata\\roaming\\python\\python310\\site-packages)\n",
      "WARNING: Ignoring invalid distribution -rotobuf (c:\\users\\sai tejaswi\\appdata\\roaming\\python\\python310\\site-packages)\n",
      "WARNING: Ignoring invalid distribution -rotobuf (c:\\users\\sai tejaswi\\appdata\\roaming\\python\\python310\\site-packages)\n",
      "WARNING: Ignoring invalid distribution -rotobuf (c:\\users\\sai tejaswi\\appdata\\roaming\\python\\python310\\site-packages)\n",
      "WARNING: Ignoring invalid distribution -rotobuf (c:\\users\\sai tejaswi\\appdata\\roaming\\python\\python310\\site-packages)\n"
     ]
    }
   ],
   "source": [
    "pip install transformers torch"
   ]
  },
  {
   "cell_type": "code",
   "execution_count": 43,
   "id": "c5bdcece",
   "metadata": {},
   "outputs": [
    {
     "name": "stdout",
     "output_type": "stream",
     "text": [
      "Defaulting to user installation because normal site-packages is not writeable\n",
      "Requirement already satisfied: transformers in c:\\programdata\\anaconda3\\lib\\site-packages (4.24.0)\n",
      "Requirement already satisfied: packaging>=20.0 in c:\\programdata\\anaconda3\\lib\\site-packages (from transformers) (22.0)\n",
      "Requirement already satisfied: regex!=2019.12.17 in c:\\programdata\\anaconda3\\lib\\site-packages (from transformers) (2022.7.9)\n",
      "Requirement already satisfied: filelock in c:\\programdata\\anaconda3\\lib\\site-packages (from transformers) (3.9.0)\n",
      "Requirement already satisfied: huggingface-hub<1.0,>=0.10.0 in c:\\programdata\\anaconda3\\lib\\site-packages (from transformers) (0.10.1)\n",
      "Requirement already satisfied: tqdm>=4.27 in c:\\programdata\\anaconda3\\lib\\site-packages (from transformers) (4.64.1)\n",
      "Requirement already satisfied: tokenizers!=0.11.3,<0.14,>=0.11.1 in c:\\programdata\\anaconda3\\lib\\site-packages (from transformers) (0.11.4)\n",
      "Requirement already satisfied: requests in c:\\programdata\\anaconda3\\lib\\site-packages (from transformers) (2.28.1)\n",
      "Requirement already satisfied: numpy>=1.17 in c:\\programdata\\anaconda3\\lib\\site-packages (from transformers) (1.23.5)\n",
      "Requirement already satisfied: pyyaml>=5.1 in c:\\programdata\\anaconda3\\lib\\site-packages (from transformers) (6.0)\n",
      "Requirement already satisfied: typing-extensions>=3.7.4.3 in c:\\programdata\\anaconda3\\lib\\site-packages (from huggingface-hub<1.0,>=0.10.0->transformers) (4.4.0)\n",
      "Requirement already satisfied: colorama in c:\\programdata\\anaconda3\\lib\\site-packages (from tqdm>=4.27->transformers) (0.4.6)\n",
      "Requirement already satisfied: idna<4,>=2.5 in c:\\programdata\\anaconda3\\lib\\site-packages (from requests->transformers) (3.4)\n",
      "Requirement already satisfied: charset-normalizer<3,>=2 in c:\\programdata\\anaconda3\\lib\\site-packages (from requests->transformers) (2.0.4)\n",
      "Requirement already satisfied: urllib3<1.27,>=1.21.1 in c:\\programdata\\anaconda3\\lib\\site-packages (from requests->transformers) (1.26.14)\n",
      "Requirement already satisfied: certifi>=2017.4.17 in c:\\programdata\\anaconda3\\lib\\site-packages (from requests->transformers) (2022.12.7)\n",
      "Note: you may need to restart the kernel to use updated packages.\n"
     ]
    },
    {
     "name": "stderr",
     "output_type": "stream",
     "text": [
      "WARNING: Ignoring invalid distribution -rotobuf (c:\\users\\sai tejaswi\\appdata\\roaming\\python\\python310\\site-packages)\n",
      "WARNING: Ignoring invalid distribution -rotobuf (c:\\users\\sai tejaswi\\appdata\\roaming\\python\\python310\\site-packages)\n",
      "WARNING: Ignoring invalid distribution -rotobuf (c:\\users\\sai tejaswi\\appdata\\roaming\\python\\python310\\site-packages)\n",
      "WARNING: Ignoring invalid distribution -rotobuf (c:\\users\\sai tejaswi\\appdata\\roaming\\python\\python310\\site-packages)\n",
      "WARNING: Ignoring invalid distribution -rotobuf (c:\\users\\sai tejaswi\\appdata\\roaming\\python\\python310\\site-packages)\n",
      "WARNING: Ignoring invalid distribution -rotobuf (c:\\users\\sai tejaswi\\appdata\\roaming\\python\\python310\\site-packages)\n"
     ]
    }
   ],
   "source": [
    "pip install transformers\n"
   ]
  },
  {
   "cell_type": "code",
   "execution_count": 48,
   "id": "69de2df9",
   "metadata": {},
   "outputs": [
    {
     "name": "stderr",
     "output_type": "stream",
     "text": [
      "Some weights of the model checkpoint at bert-base-uncased were not used when initializing BertForMaskedLM: ['cls.seq_relationship.weight', 'cls.seq_relationship.bias']\n",
      "- This IS expected if you are initializing BertForMaskedLM from the checkpoint of a model trained on another task or with another architecture (e.g. initializing a BertForSequenceClassification model from a BertForPreTraining model).\n",
      "- This IS NOT expected if you are initializing BertForMaskedLM from the checkpoint of a model that you expect to be exactly identical (initializing a BertForSequenceClassification model from a BertForSequenceClassification model).\n"
     ]
    }
   ],
   "source": [
    "'''import tkinter as tk\n",
    "from tkinter import scrolledtext\n",
    "from transformers import BertTokenizer, BertForMaskedLM\n",
    "import torch\n",
    "\n",
    "class NextWordPredictionApp:\n",
    "    def __init__(self, root):\n",
    "        self.root = root\n",
    "        self.root.title(\"Next Word Prediction\")\n",
    "\n",
    "        self.create_widgets()\n",
    "\n",
    "        # Load BERT model and tokenizer\n",
    "        self.tokenizer = BertTokenizer.from_pretrained('bert-base-uncased')\n",
    "        self.model = BertForMaskedLM.from_pretrained('bert-base-uncased')\n",
    "        self.model.eval()\n",
    "\n",
    "    def create_widgets(self):\n",
    "        self.input_text = scrolledtext.ScrolledText(self.root, width=40, height=10)\n",
    "        self.input_text.pack(pady=10)\n",
    "\n",
    "        self.predict_button = tk.Button(self.root, text=\"Predict Next Word\", command=self.predict_next_word)\n",
    "        self.predict_button.pack(pady=10)\n",
    "\n",
    "        self.output_label = tk.Label(self.root, text=\"Next Word Prediction:\")\n",
    "        self.output_label.pack()\n",
    "\n",
    "    def predict_next_word(self):\n",
    "        input_text = self.input_text.get(\"1.0\", tk.END).strip()\n",
    "\n",
    "        if input_text:\n",
    "            # Tokenize input text\n",
    "            tokenized_text = self.tokenizer.encode(input_text, add_special_tokens=True, return_tensors='pt')\n",
    "\n",
    "            # Find the position of the mask token\n",
    "            mask_token_index = (tokenized_text[0] == self.tokenizer.mask_token_id).nonzero(as_tuple=True)[0]\n",
    "            \n",
    "            if mask_token_index.numel() > 0:\n",
    "                # Mask the found mask token for next-word prediction\n",
    "                tokenized_text[0, mask_token_index] = self.tokenizer.mask_token_id\n",
    "\n",
    "                # Generate predictions\n",
    "                with torch.no_grad():\n",
    "                    predictions = self.model(tokenized_text)[0]\n",
    "\n",
    "                # Get the predicted next word\n",
    "                predicted_index = torch.argmax(predictions[0, mask_token_index]).item()\n",
    "                predicted_word = self.tokenizer.decode([predicted_index])\n",
    "\n",
    "                # Display the prediction\n",
    "                self.output_label.config(text=f\"Next Word Prediction: {predicted_word}\")\n",
    "            else:\n",
    "                self.output_label.config(text=\"Error: Mask token not found in input.\")\n",
    "\n",
    "if __name__ == \"__main__\":\n",
    "    root = tk.Tk()\n",
    "    app = NextWordPredictionApp(root)\n",
    "    root.mainloop()\n",
    "'''"
   ]
  },
  {
   "cell_type": "code",
   "execution_count": 28,
   "id": "c9a79ce9",
   "metadata": {},
   "outputs": [
    {
     "name": "stderr",
     "output_type": "stream",
     "text": [
      "Some weights of the model checkpoint at bert-base-uncased were not used when initializing BertForMaskedLM: ['cls.seq_relationship.weight', 'cls.seq_relationship.bias']\n",
      "- This IS expected if you are initializing BertForMaskedLM from the checkpoint of a model trained on another task or with another architecture (e.g. initializing a BertForSequenceClassification model from a BertForPreTraining model).\n",
      "- This IS NOT expected if you are initializing BertForMaskedLM from the checkpoint of a model that you expect to be exactly identical (initializing a BertForSequenceClassification model from a BertForSequenceClassification model).\n"
     ]
    }
   ],
   "source": [
    "import tkinter as tk\n",
    "from tkinter import scrolledtext\n",
    "from transformers import BertTokenizer, BertForMaskedLM\n",
    "import torch\n",
    "\n",
    "class NextWordPredictionApp:\n",
    "    def __init__(self, root):\n",
    "        self.root = root\n",
    "        self.root.title(\"Next Sentence Prediction\")\n",
    "\n",
    "        self.create_widgets()\n",
    "\n",
    "        # Load BERT model and tokenizer\n",
    "        self.tokenizer = BertTokenizer.from_pretrained('bert-base-uncased')\n",
    "        self.model = BertForMaskedLM.from_pretrained('bert-base-uncased')\n",
    "        self.model.eval()\n",
    "\n",
    "    def create_widgets(self):\n",
    "        self.input_text = scrolledtext.ScrolledText(self.root, width=40, height=10)\n",
    "        self.input_text.pack(pady=10)\n",
    "\n",
    "        # Entry for user to input the value of k\n",
    "        self.k_entry = tk.Entry(self.root, width=5)\n",
    "        self.k_entry.pack(pady=5)\n",
    "        self.k_entry.insert(0, \"5\")  # Default value is 5\n",
    "\n",
    "        self.predict_button = tk.Button(self.root, text=\"Predict Top Words\", command=self.predict_top_words)\n",
    "        self.predict_button.pack(pady=10)\n",
    "\n",
    "        self.output_label = tk.Label(self.root, text=\"Top Predicted Words:\")\n",
    "        self.output_label.pack()\n",
    "\n",
    "    def predict_top_words(self):\n",
    "        input_text = self.input_text.get(\"1.0\", tk.END).strip()\n",
    "        k = int(self.k_entry.get())\n",
    "\n",
    "        if input_text:\n",
    "            # Tokenize input text\n",
    "            tokenized_text = self.tokenizer.encode(input_text, add_special_tokens=True, return_tensors='pt')\n",
    "\n",
    "            # Find the position of the mask token\n",
    "            mask_token_index = (tokenized_text[0] == self.tokenizer.mask_token_id).nonzero(as_tuple=True)\n",
    "\n",
    "            if mask_token_index[0].numel() > 0:\n",
    "                mask_token_index = mask_token_index[0][0].item()\n",
    "\n",
    "                # Mask the found mask token for next-word prediction\n",
    "                tokenized_text[0, mask_token_index] = self.tokenizer.mask_token_id\n",
    "\n",
    "                # Generate predictions\n",
    "                with torch.no_grad():\n",
    "                    predictions = self.model(tokenized_text)[0]\n",
    "\n",
    "                # Get the top k predicted words\n",
    "                top_k_indices = torch.topk(predictions[0, mask_token_index], k).indices.tolist()\n",
    "                top_k_words = [self.tokenizer.decode([index]) for index in top_k_indices]\n",
    "\n",
    "                # Display the top k predicted words\n",
    "                self.output_label.config(text=f\"Top Predicted Words: {', '.join(top_k_words)}\")\n",
    "            else:\n",
    "                self.output_label.config(text=\"Error: [MASK] token not found in input.\")\n",
    "\n",
    "if __name__ == \"__main__\":\n",
    "    root = tk.Tk()\n",
    "    app = NextWordPredictionApp(root)\n",
    "    root.mainloop()\n"
   ]
  },
  {
   "cell_type": "markdown",
   "id": "040662c9",
   "metadata": {},
   "source": [
    "## RNN LSTM"
   ]
  },
  {
   "cell_type": "code",
   "execution_count": 15,
   "id": "f45e1655",
   "metadata": {},
   "outputs": [
    {
     "name": "stdout",
     "output_type": "stream",
     "text": [
      "Epoch 1/30\n",
      "3199/3199 [==============================] - 204s 63ms/step - loss: 5.9976 - accuracy: 0.1117\n",
      "Epoch 2/30\n",
      "3199/3199 [==============================] - 218s 68ms/step - loss: 5.1045 - accuracy: 0.1690\n",
      "Epoch 3/30\n",
      "3199/3199 [==============================] - 213s 67ms/step - loss: 4.6742 - accuracy: 0.1969\n",
      "Epoch 4/30\n",
      "3199/3199 [==============================] - 239s 75ms/step - loss: 4.3460 - accuracy: 0.2182\n",
      "Epoch 5/30\n",
      "3199/3199 [==============================] - 276s 86ms/step - loss: 4.0739 - accuracy: 0.2374\n",
      "Epoch 6/30\n",
      "3199/3199 [==============================] - 252s 79ms/step - loss: 3.8329 - accuracy: 0.2614\n",
      "Epoch 7/30\n",
      "3199/3199 [==============================] - 249s 78ms/step - loss: 3.6154 - accuracy: 0.2857\n",
      "Epoch 8/30\n",
      "3199/3199 [==============================] - 275s 86ms/step - loss: 3.4214 - accuracy: 0.3113\n",
      "Epoch 9/30\n",
      "3199/3199 [==============================] - 258s 81ms/step - loss: 3.2438 - accuracy: 0.3364\n",
      "Epoch 10/30\n",
      "3199/3199 [==============================] - 268s 84ms/step - loss: 3.0837 - accuracy: 0.3618\n",
      "Epoch 11/30\n",
      "3199/3199 [==============================] - 232s 73ms/step - loss: 2.9390 - accuracy: 0.3863\n",
      "Epoch 12/30\n",
      "3199/3199 [==============================] - 293s 92ms/step - loss: 2.8063 - accuracy: 0.4087\n",
      "Epoch 13/30\n",
      "3199/3199 [==============================] - 224s 70ms/step - loss: 2.6848 - accuracy: 0.4303\n",
      "Epoch 14/30\n",
      "3199/3199 [==============================] - 211s 66ms/step - loss: 2.5749 - accuracy: 0.4501\n",
      "Epoch 15/30\n",
      "3199/3199 [==============================] - 204s 64ms/step - loss: 2.4739 - accuracy: 0.4690\n",
      "Epoch 16/30\n",
      "3199/3199 [==============================] - 200s 63ms/step - loss: 2.3825 - accuracy: 0.4874\n",
      "Epoch 17/30\n",
      "3199/3199 [==============================] - 234s 73ms/step - loss: 2.2979 - accuracy: 0.5031\n",
      "Epoch 18/30\n",
      "3199/3199 [==============================] - 201s 63ms/step - loss: 2.2179 - accuracy: 0.5189\n",
      "Epoch 19/30\n",
      "3199/3199 [==============================] - 254s 80ms/step - loss: 2.1469 - accuracy: 0.5338\n",
      "Epoch 20/30\n",
      "3199/3199 [==============================] - 244s 76ms/step - loss: 2.0796 - accuracy: 0.5477\n",
      "Epoch 21/30\n",
      "3199/3199 [==============================] - 233s 73ms/step - loss: 2.0178 - accuracy: 0.5608\n",
      "Epoch 22/30\n",
      "3199/3199 [==============================] - 210s 66ms/step - loss: 1.9614 - accuracy: 0.5710\n",
      "Epoch 23/30\n",
      "3199/3199 [==============================] - 211s 66ms/step - loss: 1.9074 - accuracy: 0.5822\n",
      "Epoch 24/30\n",
      "3199/3199 [==============================] - 219s 69ms/step - loss: 1.8583 - accuracy: 0.5914\n",
      "Epoch 25/30\n",
      "3199/3199 [==============================] - 220s 69ms/step - loss: 1.8121 - accuracy: 0.6007\n",
      "Epoch 26/30\n",
      "3199/3199 [==============================] - 214s 67ms/step - loss: 1.7674 - accuracy: 0.6121\n",
      "Epoch 27/30\n",
      "3199/3199 [==============================] - 219s 68ms/step - loss: 1.7273 - accuracy: 0.6183\n",
      "Epoch 28/30\n",
      "3199/3199 [==============================] - 223s 70ms/step - loss: 1.6900 - accuracy: 0.6265\n",
      "Epoch 29/30\n",
      "3199/3199 [==============================] - 276s 86ms/step - loss: 1.6526 - accuracy: 0.6343\n",
      "Epoch 30/30\n",
      "3199/3199 [==============================] - 269s 84ms/step - loss: 1.6191 - accuracy: 0.6423\n",
      "1/1 [==============================] - 1s 1s/step\n",
      "1/1 [==============================] - 0s 48ms/step\n",
      "1/1 [==============================] - 0s 63ms/step\n",
      "1/1 [==============================] - 0s 47ms/step\n",
      "1/1 [==============================] - 0s 49ms/step\n",
      "This is on the sidewalk with a\n"
     ]
    }
   ],
   "source": [
    "import numpy as np\n",
    "import tensorflow as tf\n",
    "from tensorflow.keras.preprocessing.text import Tokenizer\n",
    "from tensorflow.keras.preprocessing.sequence import pad_sequences\n",
    "from tensorflow.keras.models import Sequential\n",
    "from tensorflow.keras.layers import Embedding, LSTM, Dense\n",
    "\n",
    "# Sample text data\n",
    "text_data = joined_text\n",
    "\n",
    "# Tokenize the text\n",
    "tokenizer = Tokenizer()\n",
    "tokenizer.fit_on_texts([text_data])\n",
    "total_words = len(tokenizer.word_index) + 1\n",
    "\n",
    "# Create input sequences and labels\n",
    "input_sequences = []\n",
    "for line in text_data.split('.'):\n",
    "    token_list = tokenizer.texts_to_sequences([line])[0]\n",
    "    for i in range(1, len(token_list)):\n",
    "        n_gram_sequence = token_list[:i + 1]\n",
    "        input_sequences.append(n_gram_sequence)\n",
    "\n",
    "max_sequence_length = max([len(seq) for seq in input_sequences])\n",
    "input_sequences = pad_sequences(input_sequences, maxlen=max_sequence_length, padding='pre')\n",
    "\n",
    "X, y = input_sequences[:, :-1], input_sequences[:, -1]\n",
    "y = tf.keras.utils.to_categorical(y, num_classes=total_words)\n",
    "\n",
    "# Build the model\n",
    "lstm_model = Sequential()\n",
    "lstm_model.add(Embedding(total_words, 50, input_length=max_sequence_length - 1))\n",
    "lstm_model.add(LSTM(100))\n",
    "lstm_model.add(Dense(total_words, activation='softmax'))\n",
    "\n",
    "lstm_model.compile(optimizer='adam', loss='categorical_crossentropy', metrics=['accuracy'])\n",
    "lstm_model.fit(X, y, epochs=30, verbose=1)\n",
    "\n"
   ]
  },
  {
   "cell_type": "code",
   "execution_count": 17,
   "id": "ca89fb73",
   "metadata": {},
   "outputs": [
    {
     "name": "stdout",
     "output_type": "stream",
     "text": [
      "Enter text: It is hard to believe that\n",
      "Enter no.of words to be generated: 5\n",
      "1/1 [==============================] - 0s 47ms/step\n",
      "1/1 [==============================] - 0s 55ms/step\n",
      "1/1 [==============================] - 0s 39ms/step\n",
      "1/1 [==============================] - 0s 48ms/step\n",
      "1/1 [==============================] - 0s 71ms/step\n",
      "It is hard to believe that someone who is swimming inside\n"
     ]
    }
   ],
   "source": [
    "# Generate text given a seed sequence\n",
    "seed_text = input(\"Enter text: \")\n",
    "n = int(input(\"Enter no.of words to be generated: \"))\n",
    "\n",
    "for _ in range(n):\n",
    "    token_list = tokenizer.texts_to_sequences([seed_text])[0]\n",
    "    token_list = pad_sequences([token_list], maxlen=max_sequence_length-1, padding='pre')\n",
    "    predicted = np.argmax(lstm_model.predict(token_list), axis=-1)\n",
    "    output_word = \"\"\n",
    "    for word, index in tokenizer.word_index.items():\n",
    "        if index == predicted:\n",
    "            output_word = word\n",
    "            break\n",
    "    seed_text += \" \" + output_word\n",
    "\n",
    "print(seed_text)"
   ]
  },
  {
   "cell_type": "markdown",
   "id": "aacdbafb",
   "metadata": {},
   "source": [
    "## N-Gram model"
   ]
  },
  {
   "cell_type": "code",
   "execution_count": null,
   "id": "c070e17e",
   "metadata": {},
   "outputs": [],
   "source": [
    "import matplotlib.pyplot as plt\n",
    "\n",
    "# Sample text data\n",
    "text_data = joined_text\n",
    "\n",
    "# Tokenize the text\n",
    "tokens = text_data.split()\n",
    "\n",
    "# Create bigrams\n",
    "ngrams_data = list(ngrams(tokens, 2))\n",
    "\n",
    "# Create a defaultdict to store predicted word frequencies\n",
    "predicted_frequencies = defaultdict(int)\n",
    "for prefix, next_word in ngrams_data:\n",
    "    predicted_frequencies[next_word] += 1\n",
    "\n",
    "# Plot the frequencies\n",
    "words, frequencies = zip(*sorted(predicted_frequencies.items(), key=lambda x: x[1], reverse=True)[:10])\n",
    "\n",
    "plt.figure(figsize=(10, 6))\n",
    "plt.bar(words, frequencies, color='blue')\n",
    "plt.xlabel('Next Word')\n",
    "plt.ylabel('Frequency')\n",
    "plt.title('Top Predicted Next Words in N-gram Model')\n",
    "plt.show()\n"
   ]
  },
  {
   "cell_type": "markdown",
   "id": "beb8db7f",
   "metadata": {},
   "source": [
    "## GRU model"
   ]
  },
  {
   "cell_type": "code",
   "execution_count": 25,
   "id": "b361c134",
   "metadata": {},
   "outputs": [
    {
     "name": "stdout",
     "output_type": "stream",
     "text": [
      "Epoch 1/30\n",
      "3199/3199 [==============================] - 261s 81ms/step - loss: 5.8175 - accuracy: 0.1238\n",
      "Epoch 2/30\n",
      "3199/3199 [==============================] - 271s 85ms/step - loss: 4.9284 - accuracy: 0.1807\n",
      "Epoch 3/30\n",
      "3199/3199 [==============================] - 212s 66ms/step - loss: 4.4553 - accuracy: 0.2110\n",
      "Epoch 4/30\n",
      "3199/3199 [==============================] - 231s 72ms/step - loss: 4.0850 - accuracy: 0.2413\n",
      "Epoch 5/30\n",
      "3199/3199 [==============================] - 203s 63ms/step - loss: 3.7686 - accuracy: 0.2742\n",
      "Epoch 6/30\n",
      "3199/3199 [==============================] - 166s 52ms/step - loss: 3.4944 - accuracy: 0.3089\n",
      "Epoch 7/30\n",
      "3199/3199 [==============================] - 218s 68ms/step - loss: 3.2560 - accuracy: 0.3424\n",
      "Epoch 8/30\n",
      "3199/3199 [==============================] - 234s 73ms/step - loss: 3.0475 - accuracy: 0.3742\n",
      "Epoch 9/30\n",
      "3199/3199 [==============================] - 210s 66ms/step - loss: 2.8629 - accuracy: 0.4050\n",
      "Epoch 10/30\n",
      "3199/3199 [==============================] - 158s 50ms/step - loss: 2.7006 - accuracy: 0.4316\n",
      "Epoch 11/30\n",
      "3199/3199 [==============================] - 162s 51ms/step - loss: 2.5598 - accuracy: 0.4565\n",
      "Epoch 12/30\n",
      "3199/3199 [==============================] - 169s 53ms/step - loss: 2.4334 - accuracy: 0.4795\n",
      "Epoch 13/30\n",
      "3199/3199 [==============================] - 167s 52ms/step - loss: 2.3251 - accuracy: 0.5001\n",
      "Epoch 14/30\n",
      "3199/3199 [==============================] - 210s 66ms/step - loss: 2.2260 - accuracy: 0.5191\n",
      "Epoch 15/30\n",
      "3199/3199 [==============================] - 158s 49ms/step - loss: 2.1406 - accuracy: 0.5346\n",
      "Epoch 16/30\n",
      "3199/3199 [==============================] - 186s 58ms/step - loss: 2.0650 - accuracy: 0.5499\n",
      "Epoch 17/30\n",
      "3199/3199 [==============================] - 178s 55ms/step - loss: 1.9956 - accuracy: 0.5637\n",
      "Epoch 18/30\n",
      "3199/3199 [==============================] - 160s 50ms/step - loss: 1.9336 - accuracy: 0.5768\n",
      "Epoch 19/30\n",
      "3199/3199 [==============================] - 180s 56ms/step - loss: 1.8783 - accuracy: 0.5867\n",
      "Epoch 20/30\n",
      "3199/3199 [==============================] - 173s 54ms/step - loss: 1.8289 - accuracy: 0.5959\n",
      "Epoch 21/30\n",
      "3199/3199 [==============================] - 189s 59ms/step - loss: 1.7806 - accuracy: 0.6063\n",
      "Epoch 22/30\n",
      "3199/3199 [==============================] - 198s 62ms/step - loss: 1.7380 - accuracy: 0.6146\n",
      "Epoch 23/30\n",
      "3199/3199 [==============================] - 183s 57ms/step - loss: 1.7011 - accuracy: 0.6208\n",
      "Epoch 24/30\n",
      "3199/3199 [==============================] - 199s 62ms/step - loss: 1.6668 - accuracy: 0.6286\n",
      "Epoch 25/30\n",
      "3199/3199 [==============================] - 183s 57ms/step - loss: 1.6319 - accuracy: 0.6367\n",
      "Epoch 26/30\n",
      "3199/3199 [==============================] - 179s 56ms/step - loss: 1.6029 - accuracy: 0.6419\n",
      "Epoch 27/30\n",
      "3199/3199 [==============================] - 182s 57ms/step - loss: 1.5735 - accuracy: 0.6484\n",
      "Epoch 28/30\n",
      "3199/3199 [==============================] - 184s 57ms/step - loss: 1.5475 - accuracy: 0.6542\n",
      "Epoch 29/30\n",
      "3199/3199 [==============================] - 196s 61ms/step - loss: 1.5248 - accuracy: 0.6573\n",
      "Epoch 30/30\n",
      "3199/3199 [==============================] - 182s 57ms/step - loss: 1.4994 - accuracy: 0.6636\n",
      "1/1 [==============================] - 1s 519ms/step\n",
      "1/1 [==============================] - 0s 24ms/step\n",
      "1/1 [==============================] - 0s 31ms/step\n",
      "1/1 [==============================] - 0s 24ms/step\n",
      "1/1 [==============================] - 0s 24ms/step\n",
      "This is shown break around and climbing\n"
     ]
    }
   ],
   "source": [
    "import numpy as np\n",
    "import tensorflow as tf\n",
    "from tensorflow.keras.preprocessing.text import Tokenizer\n",
    "from tensorflow.keras.preprocessing.sequence import pad_sequences\n",
    "from tensorflow.keras.models import Sequential\n",
    "from tensorflow.keras.layers import Embedding, GRU, Dense\n",
    "\n",
    "# Sample text data\n",
    "text_data = joined_text\n",
    "\n",
    "# Tokenize the text\n",
    "tokenizer = Tokenizer()\n",
    "tokenizer.fit_on_texts([text_data])\n",
    "total_words = len(tokenizer.word_index) + 1\n",
    "\n",
    "# Create input sequences and labels\n",
    "input_sequences = []\n",
    "for line in text_data.split('.'):\n",
    "    token_list = tokenizer.texts_to_sequences([line])[0]\n",
    "    for i in range(1, len(token_list)):\n",
    "        n_gram_sequence = token_list[:i + 1]\n",
    "        input_sequences.append(n_gram_sequence)\n",
    "\n",
    "max_sequence_length = max([len(seq) for seq in input_sequences])\n",
    "input_sequences = pad_sequences(input_sequences, maxlen=max_sequence_length, padding='pre')\n",
    "\n",
    "X, y = input_sequences[:, :-1], input_sequences[:, -1]\n",
    "y = tf.keras.utils.to_categorical(y, num_classes=total_words)\n",
    "\n",
    "# Build the model\n",
    "gru_model = Sequential()\n",
    "gru_model.add(Embedding(total_words, 50, input_length=max_sequence_length - 1))\n",
    "gru_model.add(GRU(100))\n",
    "gru_model.add(Dense(total_words, activation='softmax'))\n",
    "\n",
    "gru_model.compile(optimizer='adam', loss='categorical_crossentropy', metrics=['accuracy'])\n",
    "gru_model.fit(X, y, epochs=30, verbose=1)\n",
    "\n"
   ]
  },
  {
   "cell_type": "code",
   "execution_count": 28,
   "id": "e02f16cb",
   "metadata": {},
   "outputs": [
    {
     "name": "stdout",
     "output_type": "stream",
     "text": [
      "Enter text: Dont trouble the trouble if you trouble the trouble trouble troubles you i am not the trouble\n",
      "Enter no.of words to be generated: 5\n",
      "1/1 [==============================] - 0s 31ms/step\n",
      "1/1 [==============================] - 0s 20ms/step\n",
      "1/1 [==============================] - 0s 25ms/step\n",
      "1/1 [==============================] - 0s 16ms/step\n",
      "1/1 [==============================] - 0s 23ms/step\n",
      "Dont trouble the trouble if you trouble the trouble trouble troubles you i am not the trouble man in front of his\n"
     ]
    }
   ],
   "source": [
    "# Generate text given a seed sequence\n",
    "seed_text = input(\"Enter text: \")\n",
    "next_words = int(input(\"Enter no.of words to be generated: \"))\n",
    "\n",
    "for _ in range(next_words):\n",
    "    token_list = tokenizer.texts_to_sequences([seed_text])[0]\n",
    "    token_list = pad_sequences([token_list], maxlen=max_sequence_length-1, padding='pre')\n",
    "    predicted = np.argmax(gru_model.predict(token_list), axis=-1)\n",
    "    output_word = \"\"\n",
    "    for word, index in tokenizer.word_index.items():\n",
    "        if index == predicted:\n",
    "            output_word = word\n",
    "            break\n",
    "    seed_text += \" \" + output_word\n",
    "\n",
    "print(seed_text)\n"
   ]
  },
  {
   "cell_type": "markdown",
   "id": "a2e89bf3",
   "metadata": {},
   "source": [
    "## ROBERTA"
   ]
  },
  {
   "cell_type": "code",
   "execution_count": 11,
   "id": "5f8c4c64",
   "metadata": {},
   "outputs": [
    {
     "name": "stderr",
     "output_type": "stream",
     "text": [
      "Some weights of the model checkpoint at roberta-base were not used when initializing RobertaForSequenceClassification: ['lm_head.layer_norm.weight', 'lm_head.dense.bias', 'roberta.pooler.dense.bias', 'lm_head.dense.weight', 'lm_head.layer_norm.bias', 'roberta.pooler.dense.weight', 'lm_head.decoder.weight', 'lm_head.bias']\n",
      "- This IS expected if you are initializing RobertaForSequenceClassification from the checkpoint of a model trained on another task or with another architecture (e.g. initializing a BertForSequenceClassification model from a BertForPreTraining model).\n",
      "- This IS NOT expected if you are initializing RobertaForSequenceClassification from the checkpoint of a model that you expect to be exactly identical (initializing a BertForSequenceClassification model from a BertForSequenceClassification model).\n",
      "Some weights of RobertaForSequenceClassification were not initialized from the model checkpoint at roberta-base and are newly initialized: ['classifier.out_proj.bias', 'classifier.dense.bias', 'classifier.out_proj.weight', 'classifier.dense.weight']\n",
      "You should probably TRAIN this model on a down-stream task to be able to use it for predictions and inference.\n",
      "Epoch 1: 100%|██████████████████████████████████████████████████████████████████████████| 1/1 [01:46<00:00, 106.86s/it]\n"
     ]
    },
    {
     "name": "stdout",
     "output_type": "stream",
     "text": [
      "Epoch 1, Loss: 0.6957700252532959\n"
     ]
    },
    {
     "name": "stderr",
     "output_type": "stream",
     "text": [
      "Epoch 2: 100%|██████████████████████████████████████████████████████████████████████████| 1/1 [01:40<00:00, 100.18s/it]\n"
     ]
    },
    {
     "name": "stdout",
     "output_type": "stream",
     "text": [
      "Epoch 2, Loss: 0.6576586365699768\n"
     ]
    },
    {
     "name": "stderr",
     "output_type": "stream",
     "text": [
      "Epoch 3: 100%|██████████████████████████████████████████████████████████████████████████| 1/1 [01:55<00:00, 115.25s/it]\n"
     ]
    },
    {
     "name": "stdout",
     "output_type": "stream",
     "text": [
      "Epoch 3, Loss: 0.6325362920761108\n"
     ]
    },
    {
     "name": "stderr",
     "output_type": "stream",
     "text": [
      "Epoch 4: 100%|██████████████████████████████████████████████████████████████████████████| 1/1 [01:45<00:00, 105.06s/it]\n"
     ]
    },
    {
     "name": "stdout",
     "output_type": "stream",
     "text": [
      "Epoch 4, Loss: 0.5905188918113708\n"
     ]
    },
    {
     "name": "stderr",
     "output_type": "stream",
     "text": [
      "Epoch 5: 100%|██████████████████████████████████████████████████████████████████████████| 1/1 [01:54<00:00, 114.24s/it]\n"
     ]
    },
    {
     "name": "stdout",
     "output_type": "stream",
     "text": [
      "Epoch 5, Loss: 0.5120791792869568\n"
     ]
    },
    {
     "name": "stderr",
     "output_type": "stream",
     "text": [
      "Epoch 6: 100%|██████████████████████████████████████████████████████████████████████████| 1/1 [01:43<00:00, 103.61s/it]\n"
     ]
    },
    {
     "name": "stdout",
     "output_type": "stream",
     "text": [
      "Epoch 6, Loss: 0.5694156885147095\n"
     ]
    },
    {
     "name": "stderr",
     "output_type": "stream",
     "text": [
      "Epoch 7: 100%|██████████████████████████████████████████████████████████████████████████| 1/1 [01:41<00:00, 101.65s/it]\n"
     ]
    },
    {
     "name": "stdout",
     "output_type": "stream",
     "text": [
      "Epoch 7, Loss: 0.40158265829086304\n"
     ]
    },
    {
     "name": "stderr",
     "output_type": "stream",
     "text": [
      "Epoch 8: 100%|██████████████████████████████████████████████████████████████████████████| 1/1 [01:41<00:00, 101.60s/it]\n"
     ]
    },
    {
     "name": "stdout",
     "output_type": "stream",
     "text": [
      "Epoch 8, Loss: 0.41303107142448425\n"
     ]
    },
    {
     "name": "stderr",
     "output_type": "stream",
     "text": [
      "Epoch 9: 100%|██████████████████████████████████████████████████████████████████████████| 1/1 [01:41<00:00, 101.53s/it]\n"
     ]
    },
    {
     "name": "stdout",
     "output_type": "stream",
     "text": [
      "Epoch 9, Loss: 0.5126968622207642\n"
     ]
    },
    {
     "name": "stderr",
     "output_type": "stream",
     "text": [
      "Epoch 10: 100%|█████████████████████████████████████████████████████████████████████████| 1/1 [01:41<00:00, 101.49s/it]\n"
     ]
    },
    {
     "name": "stdout",
     "output_type": "stream",
     "text": [
      "Epoch 10, Loss: 0.4950035810470581\n"
     ]
    },
    {
     "name": "stderr",
     "output_type": "stream",
     "text": [
      "Epoch 11: 100%|█████████████████████████████████████████████████████████████████████████| 1/1 [01:40<00:00, 100.67s/it]\n"
     ]
    },
    {
     "name": "stdout",
     "output_type": "stream",
     "text": [
      "Epoch 11, Loss: 0.43202030658721924\n"
     ]
    },
    {
     "name": "stderr",
     "output_type": "stream",
     "text": [
      "Epoch 12: 100%|█████████████████████████████████████████████████████████████████████████| 1/1 [01:44<00:00, 104.19s/it]\n"
     ]
    },
    {
     "name": "stdout",
     "output_type": "stream",
     "text": [
      "Epoch 12, Loss: 0.4701085388660431\n"
     ]
    },
    {
     "name": "stderr",
     "output_type": "stream",
     "text": [
      "Epoch 13: 100%|█████████████████████████████████████████████████████████████████████████| 1/1 [01:54<00:00, 114.82s/it]\n"
     ]
    },
    {
     "name": "stdout",
     "output_type": "stream",
     "text": [
      "Epoch 13, Loss: 0.15057216584682465\n"
     ]
    },
    {
     "name": "stderr",
     "output_type": "stream",
     "text": [
      "Epoch 14: 100%|█████████████████████████████████████████████████████████████████████████| 1/1 [01:50<00:00, 110.64s/it]\n"
     ]
    },
    {
     "name": "stdout",
     "output_type": "stream",
     "text": [
      "Epoch 14, Loss: 0.33756399154663086\n"
     ]
    },
    {
     "name": "stderr",
     "output_type": "stream",
     "text": [
      "Epoch 15: 100%|██████████████████████████████████████████████████████████████████████████| 1/1 [01:39<00:00, 99.34s/it]\n"
     ]
    },
    {
     "name": "stdout",
     "output_type": "stream",
     "text": [
      "Epoch 15, Loss: 0.34358325600624084\n"
     ]
    },
    {
     "name": "stderr",
     "output_type": "stream",
     "text": [
      "Epoch 16: 100%|██████████████████████████████████████████████████████████████████████████| 1/1 [01:39<00:00, 99.08s/it]\n"
     ]
    },
    {
     "name": "stdout",
     "output_type": "stream",
     "text": [
      "Epoch 16, Loss: 0.30195310711860657\n"
     ]
    },
    {
     "name": "stderr",
     "output_type": "stream",
     "text": [
      "Epoch 17: 100%|█████████████████████████████████████████████████████████████████████████| 1/1 [01:42<00:00, 102.46s/it]\n"
     ]
    },
    {
     "name": "stdout",
     "output_type": "stream",
     "text": [
      "Epoch 17, Loss: 0.3081834316253662\n"
     ]
    },
    {
     "name": "stderr",
     "output_type": "stream",
     "text": [
      "Epoch 18: 100%|█████████████████████████████████████████████████████████████████████████| 1/1 [01:41<00:00, 101.45s/it]\n"
     ]
    },
    {
     "name": "stdout",
     "output_type": "stream",
     "text": [
      "Epoch 18, Loss: 0.21518146991729736\n"
     ]
    },
    {
     "name": "stderr",
     "output_type": "stream",
     "text": [
      "Epoch 19: 100%|█████████████████████████████████████████████████████████████████████████| 1/1 [01:41<00:00, 101.99s/it]\n"
     ]
    },
    {
     "name": "stdout",
     "output_type": "stream",
     "text": [
      "Epoch 19, Loss: 0.1407160758972168\n"
     ]
    },
    {
     "name": "stderr",
     "output_type": "stream",
     "text": [
      "Epoch 20: 100%|█████████████████████████████████████████████████████████████████████████| 1/1 [01:43<00:00, 103.07s/it]\n"
     ]
    },
    {
     "name": "stdout",
     "output_type": "stream",
     "text": [
      "Epoch 20, Loss: 0.10909205675125122\n"
     ]
    },
    {
     "name": "stderr",
     "output_type": "stream",
     "text": [
      "Epoch 21: 100%|█████████████████████████████████████████████████████████████████████████| 1/1 [03:17<00:00, 197.67s/it]\n"
     ]
    },
    {
     "name": "stdout",
     "output_type": "stream",
     "text": [
      "Epoch 21, Loss: 0.09377989917993546\n"
     ]
    },
    {
     "name": "stderr",
     "output_type": "stream",
     "text": [
      "Epoch 22: 100%|█████████████████████████████████████████████████████████████████████████| 1/1 [03:45<00:00, 225.68s/it]\n"
     ]
    },
    {
     "name": "stdout",
     "output_type": "stream",
     "text": [
      "Epoch 22, Loss: 0.060333091765642166\n"
     ]
    },
    {
     "name": "stderr",
     "output_type": "stream",
     "text": [
      "Epoch 23: 100%|█████████████████████████████████████████████████████████████████████████| 1/1 [03:44<00:00, 224.88s/it]\n"
     ]
    },
    {
     "name": "stdout",
     "output_type": "stream",
     "text": [
      "Epoch 23, Loss: 0.08339738100767136\n"
     ]
    },
    {
     "name": "stderr",
     "output_type": "stream",
     "text": [
      "Epoch 24: 100%|█████████████████████████████████████████████████████████████████████████| 1/1 [14:30<00:00, 870.40s/it]\n"
     ]
    },
    {
     "name": "stdout",
     "output_type": "stream",
     "text": [
      "Epoch 24, Loss: 0.07258326560258865\n"
     ]
    },
    {
     "name": "stderr",
     "output_type": "stream",
     "text": [
      "Epoch 25: 100%|█████████████████████████████████████████████████████████████████████████| 1/1 [01:44<00:00, 104.25s/it]\n"
     ]
    },
    {
     "name": "stdout",
     "output_type": "stream",
     "text": [
      "Epoch 25, Loss: 0.04330955073237419\n"
     ]
    },
    {
     "name": "stderr",
     "output_type": "stream",
     "text": [
      "Epoch 26: 100%|█████████████████████████████████████████████████████████████████████████| 1/1 [01:57<00:00, 117.24s/it]\n"
     ]
    },
    {
     "name": "stdout",
     "output_type": "stream",
     "text": [
      "Epoch 26, Loss: 0.034207530319690704\n"
     ]
    },
    {
     "name": "stderr",
     "output_type": "stream",
     "text": [
      "Epoch 27: 100%|██████████████████████████████████████████████████████████████████████████| 1/1 [01:36<00:00, 96.60s/it]\n"
     ]
    },
    {
     "name": "stdout",
     "output_type": "stream",
     "text": [
      "Epoch 27, Loss: 0.02144762873649597\n"
     ]
    },
    {
     "name": "stderr",
     "output_type": "stream",
     "text": [
      "Epoch 28: 100%|█████████████████████████████████████████████████████████████████████████| 1/1 [01:48<00:00, 108.78s/it]\n"
     ]
    },
    {
     "name": "stdout",
     "output_type": "stream",
     "text": [
      "Epoch 28, Loss: 0.029483890160918236\n"
     ]
    },
    {
     "name": "stderr",
     "output_type": "stream",
     "text": [
      "Epoch 29: 100%|██████████████████████████████████████████████████████████████████████████| 1/1 [01:36<00:00, 96.74s/it]\n"
     ]
    },
    {
     "name": "stdout",
     "output_type": "stream",
     "text": [
      "Epoch 29, Loss: 0.02480783686041832\n"
     ]
    },
    {
     "name": "stderr",
     "output_type": "stream",
     "text": [
      "Epoch 30: 100%|█████████████████████████████████████████████████████████████████████████| 1/1 [01:40<00:00, 100.04s/it]\n"
     ]
    },
    {
     "name": "stdout",
     "output_type": "stream",
     "text": [
      "Epoch 30, Loss: 0.02923789992928505\n"
     ]
    }
   ],
   "source": [
    "import torch\n",
    "from torch.utils.data import DataLoader, TensorDataset\n",
    "from transformers import RobertaTokenizer, RobertaForSequenceClassification\n",
    "from torch.nn import CrossEntropyLoss\n",
    "from tqdm import tqdm\n",
    "\n",
    "\n",
    "# Tokenize the text\n",
    "tokenizer = RobertaTokenizer.from_pretrained('roberta-base')\n",
    "input_ids = tokenizer.encode(joined_text, return_tensors='pt', truncation=True, padding=True)\n",
    "\n",
    "# Create labels (let's assume binary classification for simplicity)\n",
    "# Replace this with your task-specific labels\n",
    "labels = torch.tensor([0] * input_ids.shape[0])  # Assuming 0 for all samples\n",
    "\n",
    "# Create a DataLoader\n",
    "dataset = TensorDataset(input_ids, labels)\n",
    "data_loader = DataLoader(dataset, batch_size=8, shuffle=True)\n",
    "\n",
    "# Load pre-trained RoBERTa model\n",
    "model = RobertaForSequenceClassification.from_pretrained('roberta-base')\n",
    "model.train()\n",
    "\n",
    "# Set device\n",
    "device = torch.device(\"cuda\" if torch.cuda.is_available() else \"cpu\")\n",
    "model.to(device)\n",
    "\n",
    "# Define optimizer and loss function\n",
    "optimizer = torch.optim.AdamW(model.parameters(), lr=1e-5)\n",
    "loss_fn = CrossEntropyLoss()\n",
    "\n",
    "# Training loop\n",
    "num_epochs = 30  # Set to 30 epochs\n",
    "for epoch in range(num_epochs):\n",
    "    total_loss = 0.0\n",
    "    total_steps = 0\n",
    "\n",
    "    for batch in tqdm(data_loader, desc=f\"Epoch {epoch + 1}\"):\n",
    "        input_ids, labels = batch\n",
    "        input_ids, labels = input_ids.to(device), labels.to(device)\n",
    "\n",
    "        optimizer.zero_grad()\n",
    "        outputs = model(input_ids, labels=labels)\n",
    "        loss = outputs.loss\n",
    "        total_loss += loss.item()\n",
    "        total_steps += 1\n",
    "\n",
    "        loss.backward()\n",
    "        optimizer.step()\n",
    "\n",
    "    average_loss = total_loss / total_steps\n",
    "    print(f'Epoch {epoch + 1}, Loss: {average_loss}')\n",
    "\n",
    "# Save the fine-tuned model if needed\n",
    "model.save_pretrained('fine_tuned_roberta')\n"
   ]
  }
 ],
 "metadata": {
  "kernelspec": {
   "display_name": "Python 3 (ipykernel)",
   "language": "python",
   "name": "python3"
  },
  "language_info": {
   "codemirror_mode": {
    "name": "ipython",
    "version": 3
   },
   "file_extension": ".py",
   "mimetype": "text/x-python",
   "name": "python",
   "nbconvert_exporter": "python",
   "pygments_lexer": "ipython3",
   "version": "3.10.9"
  }
 },
 "nbformat": 4,
 "nbformat_minor": 5
}
